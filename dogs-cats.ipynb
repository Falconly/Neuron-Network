{
 "cells": [
  {
   "cell_type": "code",
   "execution_count": 1,
   "id": "af003f24",
   "metadata": {
    "_cell_guid": "b1076dfc-b9ad-4769-8c92-a6c4dae69d19",
    "_uuid": "8f2839f25d086af736a60e9eeb907d3b93b6e0e5",
    "execution": {
     "iopub.execute_input": "2024-03-17T15:41:49.712244Z",
     "iopub.status.busy": "2024-03-17T15:41:49.711973Z",
     "iopub.status.idle": "2024-03-17T15:41:54.818511Z",
     "shell.execute_reply": "2024-03-17T15:41:54.817585Z"
    },
    "papermill": {
     "duration": 5.11595,
     "end_time": "2024-03-17T15:41:54.820689",
     "exception": false,
     "start_time": "2024-03-17T15:41:49.704739",
     "status": "completed"
    },
    "tags": []
   },
   "outputs": [
    {
     "name": "stderr",
     "output_type": "stream",
     "text": [
      "/tmp/ipykernel_27/847551157.py:15: TqdmExperimentalWarning: Using `tqdm.autonotebook.tqdm` in notebook mode. Use `tqdm.tqdm` instead to force console mode (e.g. in jupyter console)\n",
      "  from tqdm.autonotebook import tqdm\n"
     ]
    }
   ],
   "source": [
    "import numpy as np \n",
    "import pandas as pd \n",
    "import os\n",
    "import cv2\n",
    "\n",
    "import torch\n",
    "import torch.nn as nn\n",
    "from torch.utils.data import Dataset, DataLoader\n",
    "import torch.nn.functional as F\n",
    "\n",
    "import matplotlib.pyplot as plt\n",
    "import seaborn as sns\n",
    "import warnings\n",
    "\n",
    "from tqdm.autonotebook import tqdm\n",
    "\n",
    "plt.style.use('dark_background')\n",
    "warnings.filterwarnings('ignore', 'FutureWarning')"
   ]
  },
  {
   "cell_type": "markdown",
   "id": "05b00e3e",
   "metadata": {
    "papermill": {
     "duration": 0.005558,
     "end_time": "2024-03-17T15:41:54.832210",
     "exception": false,
     "start_time": "2024-03-17T15:41:54.826652",
     "status": "completed"
    },
    "tags": []
   },
   "source": [
    "## Create Dataset"
   ]
  },
  {
   "cell_type": "code",
   "execution_count": 2,
   "id": "f1f674e1",
   "metadata": {
    "execution": {
     "iopub.execute_input": "2024-03-17T15:41:54.845133Z",
     "iopub.status.busy": "2024-03-17T15:41:54.844389Z",
     "iopub.status.idle": "2024-03-17T15:41:54.854899Z",
     "shell.execute_reply": "2024-03-17T15:41:54.854062Z"
    },
    "papermill": {
     "duration": 0.019049,
     "end_time": "2024-03-17T15:41:54.856876",
     "exception": false,
     "start_time": "2024-03-17T15:41:54.837827",
     "status": "completed"
    },
    "tags": []
   },
   "outputs": [],
   "source": [
    "class Dataset2Class(Dataset):\n",
    "    def __init__(self, path_dir1: str, path_dir2: str):\n",
    "        super().__init__()\n",
    "        \n",
    "        self.path_dir1 = path_dir1\n",
    "        self.path_dir2 = path_dir2\n",
    "        \n",
    "        # Получение списков, содержащих имена файлов и директорий в \n",
    "        # каталогах path_dir1, path_dir2\n",
    "        self.dir1_list = sorted(os.listdir(path_dir1))\n",
    "        self.dir2_list = sorted(os.listdir(path_dir2))\n",
    "        \n",
    "        self.len_dir1_list = len(self.dir1_list)\n",
    "    \n",
    "    def __len__(self):\n",
    "        return len(self.dir1_list) + len(self.dir2_list)\n",
    "    \n",
    "    def __getitem__(self, idx):\n",
    "        if idx < self.len_dir1_list:\n",
    "            class_id = 0\n",
    "            img_path = os.path.join(self.path_dir1, self.dir1_list[idx])\n",
    "        else:\n",
    "            class_id = 1\n",
    "            idx -= self.len_dir1_list\n",
    "            img_path = os.path.join(self.path_dir2, self.dir2_list[idx])\n",
    "            \n",
    "        img = cv2.imread(img_path, cv2.IMREAD_COLOR)\n",
    "        img = cv2.cvtColor(img, cv2.COLOR_BGR2RGB)\n",
    "        img = img.astype(np.float32)\n",
    "        img = img / 255.0\n",
    "        img = cv2.resize(img, (50, 50), interpolation=cv2.INTER_AREA)\n",
    "        img = img.transpose((2, 0, 1))\n",
    "        t_img = torch.from_numpy(img)\n",
    "        t_class_id = torch.tensor(class_id)\n",
    "        \n",
    "        return {'img': t_img, 'label': t_class_id}"
   ]
  },
  {
   "cell_type": "code",
   "execution_count": 3,
   "id": "fdefd807",
   "metadata": {
    "execution": {
     "iopub.execute_input": "2024-03-17T15:41:54.869246Z",
     "iopub.status.busy": "2024-03-17T15:41:54.868751Z",
     "iopub.status.idle": "2024-03-17T15:41:55.546204Z",
     "shell.execute_reply": "2024-03-17T15:41:55.545440Z"
    },
    "papermill": {
     "duration": 0.686076,
     "end_time": "2024-03-17T15:41:55.548493",
     "exception": false,
     "start_time": "2024-03-17T15:41:54.862417",
     "status": "completed"
    },
    "tags": []
   },
   "outputs": [],
   "source": [
    "# 0 - dogs, 1 - cats\n",
    "\n",
    "train_dogs_path = '/kaggle/input/dog-vs-cat-fastai/dogscats/train/dogs'\n",
    "train_cats_path = '/kaggle/input/dog-vs-cat-fastai/dogscats/train/cats'\n",
    "\n",
    "test_dogs_path = '/kaggle/input/dog-vs-cat-fastai/dogscats/valid/dogs'\n",
    "test_cats_path = '/kaggle/input/dog-vs-cat-fastai/dogscats/valid/cats'\n",
    "\n",
    "train_dataset = Dataset2Class(train_dogs_path, train_cats_path)\n",
    "test_dataset = Dataset2Class(test_dogs_path, test_cats_path)"
   ]
  },
  {
   "cell_type": "markdown",
   "id": "1db962db",
   "metadata": {
    "papermill": {
     "duration": 0.005401,
     "end_time": "2024-03-17T15:41:55.559894",
     "exception": false,
     "start_time": "2024-03-17T15:41:55.554493",
     "status": "completed"
    },
    "tags": []
   },
   "source": [
    "## Create Dataloader"
   ]
  },
  {
   "cell_type": "code",
   "execution_count": 4,
   "id": "e7c36414",
   "metadata": {
    "execution": {
     "iopub.execute_input": "2024-03-17T15:41:55.572616Z",
     "iopub.status.busy": "2024-03-17T15:41:55.571878Z",
     "iopub.status.idle": "2024-03-17T15:41:55.577195Z",
     "shell.execute_reply": "2024-03-17T15:41:55.576212Z"
    },
    "papermill": {
     "duration": 0.013657,
     "end_time": "2024-03-17T15:41:55.579071",
     "exception": false,
     "start_time": "2024-03-17T15:41:55.565414",
     "status": "completed"
    },
    "tags": []
   },
   "outputs": [],
   "source": [
    "batch_size = 16\n",
    "train_loader = DataLoader(train_dataset, \n",
    "                          shuffle=True, \n",
    "                          drop_last=True,\n",
    "                          batch_size=batch_size,\n",
    "                         )\n",
    "test_loader = DataLoader(test_dataset,\n",
    "                        shuffle=True,\n",
    "                        batch_size=batch_size,\n",
    "                        )"
   ]
  },
  {
   "cell_type": "markdown",
   "id": "597e8029",
   "metadata": {
    "papermill": {
     "duration": 0.005389,
     "end_time": "2024-03-17T15:41:55.590005",
     "exception": false,
     "start_time": "2024-03-17T15:41:55.584616",
     "status": "completed"
    },
    "tags": []
   },
   "source": [
    "## Architecture CNN"
   ]
  },
  {
   "cell_type": "code",
   "execution_count": 5,
   "id": "8eac9836",
   "metadata": {
    "execution": {
     "iopub.execute_input": "2024-03-17T15:41:55.602162Z",
     "iopub.status.busy": "2024-03-17T15:41:55.601896Z",
     "iopub.status.idle": "2024-03-17T15:41:55.611482Z",
     "shell.execute_reply": "2024-03-17T15:41:55.610660Z"
    },
    "papermill": {
     "duration": 0.017851,
     "end_time": "2024-03-17T15:41:55.613335",
     "exception": false,
     "start_time": "2024-03-17T15:41:55.595484",
     "status": "completed"
    },
    "tags": []
   },
   "outputs": [],
   "source": [
    "class ConvNet(nn.Module):\n",
    "    def __init__(self):\n",
    "        super().__init__()\n",
    "        self.conv1 = nn.Conv2d(3, 32, 3, stride=1)\n",
    "        self.conv2 = nn.Conv2d(32, 64, 3, stride=1)\n",
    "        self.conv3 = nn.Conv2d(64, 64, 3, stride=1)\n",
    "        self.conv4 = nn.Conv2d(64, 64, 3, stride=1)\n",
    "        \n",
    "        self.maxpool = nn.MaxPool2d(2, 2)\n",
    "        self.adaptivepool = nn.AdaptiveAvgPool2d((1, 1)) # Автоматически рассчитывает значения\n",
    "                                                        # для достижения указанного рамера\n",
    "        self.leaky_relu = nn.LeakyReLU(0.2)\n",
    "        \n",
    "        self.flatten = nn.Flatten()\n",
    "        self.linear1 = nn.Linear(64, 10)\n",
    "        self.linear2 = nn.Linear(10, 2)\n",
    "        \n",
    "    def forward(self, x):\n",
    "        # Сверточная сеть\n",
    "        x = self.conv1(x)\n",
    "        x = self.leaky_relu(x)\n",
    "        x = self.maxpool(x)\n",
    "\n",
    "        x = self.conv2(x)\n",
    "        x = self.leaky_relu(x)\n",
    "        x = self.maxpool(x)\n",
    "        \n",
    "        x = self.conv3(x)\n",
    "        x = self.leaky_relu(x)\n",
    "        x = self.adaptivepool(x)\n",
    "        \n",
    "        # Полносвязная сеть\n",
    "        x = self.flatten(x)\n",
    "        x = self.linear1(x)\n",
    "        x = self.leaky_relu(x)\n",
    "        x = self.linear2(x)\n",
    "        \n",
    "        return x"
   ]
  },
  {
   "cell_type": "code",
   "execution_count": 6,
   "id": "89d3462b",
   "metadata": {
    "execution": {
     "iopub.execute_input": "2024-03-17T15:41:55.625488Z",
     "iopub.status.busy": "2024-03-17T15:41:55.625194Z",
     "iopub.status.idle": "2024-03-17T15:41:55.649142Z",
     "shell.execute_reply": "2024-03-17T15:41:55.648455Z"
    },
    "papermill": {
     "duration": 0.032117,
     "end_time": "2024-03-17T15:41:55.651083",
     "exception": false,
     "start_time": "2024-03-17T15:41:55.618966",
     "status": "completed"
    },
    "tags": []
   },
   "outputs": [],
   "source": [
    "model = ConvNet()"
   ]
  },
  {
   "cell_type": "code",
   "execution_count": 7,
   "id": "b3a52142",
   "metadata": {
    "execution": {
     "iopub.execute_input": "2024-03-17T15:41:55.663221Z",
     "iopub.status.busy": "2024-03-17T15:41:55.662955Z",
     "iopub.status.idle": "2024-03-17T15:41:55.667505Z",
     "shell.execute_reply": "2024-03-17T15:41:55.666620Z"
    },
    "papermill": {
     "duration": 0.012712,
     "end_time": "2024-03-17T15:41:55.669412",
     "exception": false,
     "start_time": "2024-03-17T15:41:55.656700",
     "status": "completed"
    },
    "tags": []
   },
   "outputs": [
    {
     "name": "stdout",
     "output_type": "stream",
     "text": [
      "ConvNet(\n",
      "  (conv1): Conv2d(3, 32, kernel_size=(3, 3), stride=(1, 1))\n",
      "  (conv2): Conv2d(32, 64, kernel_size=(3, 3), stride=(1, 1))\n",
      "  (conv3): Conv2d(64, 64, kernel_size=(3, 3), stride=(1, 1))\n",
      "  (conv4): Conv2d(64, 64, kernel_size=(3, 3), stride=(1, 1))\n",
      "  (maxpool): MaxPool2d(kernel_size=2, stride=2, padding=0, dilation=1, ceil_mode=False)\n",
      "  (adaptivepool): AdaptiveAvgPool2d(output_size=(1, 1))\n",
      "  (leaky_relu): LeakyReLU(negative_slope=0.2)\n",
      "  (flatten): Flatten(start_dim=1, end_dim=-1)\n",
      "  (linear1): Linear(in_features=64, out_features=10, bias=True)\n",
      "  (linear2): Linear(in_features=10, out_features=2, bias=True)\n",
      ")\n"
     ]
    }
   ],
   "source": [
    "print(model)"
   ]
  },
  {
   "cell_type": "code",
   "execution_count": 8,
   "id": "f655a88b",
   "metadata": {
    "execution": {
     "iopub.execute_input": "2024-03-17T15:41:55.681888Z",
     "iopub.status.busy": "2024-03-17T15:41:55.681614Z",
     "iopub.status.idle": "2024-03-17T15:41:56.061804Z",
     "shell.execute_reply": "2024-03-17T15:41:56.060791Z"
    },
    "papermill": {
     "duration": 0.389047,
     "end_time": "2024-03-17T15:41:56.064124",
     "exception": false,
     "start_time": "2024-03-17T15:41:55.675077",
     "status": "completed"
    },
    "tags": []
   },
   "outputs": [],
   "source": [
    "for sample in train_loader:\n",
    "    img = sample['img']\n",
    "    model(img)\n",
    "    break"
   ]
  },
  {
   "cell_type": "markdown",
   "id": "af6447bf",
   "metadata": {
    "papermill": {
     "duration": 0.005478,
     "end_time": "2024-03-17T15:41:56.075560",
     "exception": false,
     "start_time": "2024-03-17T15:41:56.070082",
     "status": "completed"
    },
    "tags": []
   },
   "source": [
    "## Learn CNN"
   ]
  },
  {
   "cell_type": "code",
   "execution_count": 9,
   "id": "00c4cbc7",
   "metadata": {
    "execution": {
     "iopub.execute_input": "2024-03-17T15:41:56.088870Z",
     "iopub.status.busy": "2024-03-17T15:41:56.088553Z",
     "iopub.status.idle": "2024-03-17T15:41:58.674484Z",
     "shell.execute_reply": "2024-03-17T15:41:58.673456Z"
    },
    "papermill": {
     "duration": 2.594763,
     "end_time": "2024-03-17T15:41:58.676820",
     "exception": false,
     "start_time": "2024-03-17T15:41:56.082057",
     "status": "completed"
    },
    "tags": []
   },
   "outputs": [],
   "source": [
    "DEVICE = 'cuda' if torch.cuda.is_available() else 'cpu'\n",
    "\n",
    "optimizer = torch.optim.Adam(model.parameters(), lr=0.001)\n",
    "loss_function = nn.CrossEntropyLoss()\n",
    "\n",
    "model = model.to(DEVICE)\n",
    "EPOCHS = 10"
   ]
  },
  {
   "cell_type": "code",
   "execution_count": 10,
   "id": "3ae7d859",
   "metadata": {
    "execution": {
     "iopub.execute_input": "2024-03-17T15:41:58.689971Z",
     "iopub.status.busy": "2024-03-17T15:41:58.689494Z",
     "iopub.status.idle": "2024-03-17T15:41:58.695187Z",
     "shell.execute_reply": "2024-03-17T15:41:58.694358Z"
    },
    "papermill": {
     "duration": 0.014326,
     "end_time": "2024-03-17T15:41:58.697153",
     "exception": false,
     "start_time": "2024-03-17T15:41:58.682827",
     "status": "completed"
    },
    "tags": []
   },
   "outputs": [],
   "source": [
    "def accuracy(pred: torch.Tensor, target: torch.Tensor) -> int:\n",
    "    proba = F.softmax(pred, dim=1)\n",
    "    true = (torch.argmax(pred.detach(), dim=1) == torch.argmax(target, dim=1)).sum()\n",
    "    return true.to(torch.float32).mean().detach().cpu().numpy().item()"
   ]
  },
  {
   "cell_type": "code",
   "execution_count": 11,
   "id": "2a4565a5",
   "metadata": {
    "execution": {
     "iopub.execute_input": "2024-03-17T15:41:58.709641Z",
     "iopub.status.busy": "2024-03-17T15:41:58.709385Z",
     "iopub.status.idle": "2024-03-17T15:41:58.713848Z",
     "shell.execute_reply": "2024-03-17T15:41:58.713066Z"
    },
    "papermill": {
     "duration": 0.012958,
     "end_time": "2024-03-17T15:41:58.715779",
     "exception": false,
     "start_time": "2024-03-17T15:41:58.702821",
     "status": "completed"
    },
    "tags": []
   },
   "outputs": [],
   "source": [
    "train_loss = []\n",
    "total_loss = []\n",
    "\n",
    "val_loss = []\n",
    "total_val_loss = []\n",
    "\n",
    "acc_train = []\n",
    "acc_val = []\n",
    "\n",
    "size = len(train_dataset)"
   ]
  },
  {
   "cell_type": "code",
   "execution_count": 12,
   "id": "6aa2d64b",
   "metadata": {
    "execution": {
     "iopub.execute_input": "2024-03-17T15:41:58.728529Z",
     "iopub.status.busy": "2024-03-17T15:41:58.728240Z",
     "iopub.status.idle": "2024-03-17T16:07:07.775596Z",
     "shell.execute_reply": "2024-03-17T16:07:07.774737Z"
    },
    "papermill": {
     "duration": 1509.072442,
     "end_time": "2024-03-17T16:07:07.794044",
     "exception": false,
     "start_time": "2024-03-17T15:41:58.721602",
     "status": "completed"
    },
    "tags": []
   },
   "outputs": [
    {
     "data": {
      "application/vnd.jupyter.widget-view+json": {
       "model_id": "f044b129f57d4650bace10ea1d31f97d",
       "version_major": 2,
       "version_minor": 0
      },
      "text/plain": [
       "  0%|          | 0/10 [00:00<?, ?it/s]"
      ]
     },
     "metadata": {},
     "output_type": "display_data"
    },
    {
     "name": "stdout",
     "output_type": "stream",
     "text": [
      "Epochs 0 \n",
      "------------------------\n",
      "loss: 0.687894 [2000|23000] Accuracy: 8.248\n",
      "loss: 0.685286 [4000|23000] Accuracy: 8.2\n",
      "loss: 0.693420 [6000|23000] Accuracy: 8.304\n",
      "loss: 0.678937 [8000|23000] Accuracy: 8.382\n",
      "loss: 0.680900 [10000|23000] Accuracy: 8.496\n",
      "loss: 0.677943 [12000|23000] Accuracy: 8.586666666666666\n",
      "loss: 0.649975 [14000|23000] Accuracy: 8.658285714285714\n",
      "loss: 0.580931 [16000|23000] Accuracy: 8.786\n",
      "loss: 0.636467 [18000|23000] Accuracy: 8.862222222222222\n",
      "loss: 0.554196 [20000|23000] Accuracy: 8.9712\n",
      "loss: 0.617845 [22000|23000] Accuracy: 9.03490909090909\n",
      "Validation Error:\n",
      "Accuracy: 9.112 Avg Loss: 0.6773789455890655\n",
      "Epochs 1 \n",
      "------------------------\n",
      "loss: 0.654565 [2000|23000] Accuracy: 9.139564660691422\n",
      "loss: 0.669052 [4000|23000] Accuracy: 9.200948429164196\n",
      "loss: 0.702392 [6000|23000] Accuracy: 9.277041942604857\n",
      "loss: 0.636465 [8000|23000] Accuracy: 9.364997418688693\n",
      "loss: 0.657438 [10000|23000] Accuracy: 9.405916585838991\n",
      "loss: 0.791971 [12000|23000] Accuracy: 9.46822130772748\n",
      "loss: 0.734946 [14000|23000] Accuracy: 9.527249134948097\n",
      "loss: 0.689832 [16000|23000] Accuracy: 9.594583504308575\n",
      "loss: 0.489724 [18000|23000] Accuracy: 9.642076502732241\n",
      "loss: 0.619815 [20000|23000] Accuracy: 9.69519910681057\n",
      "loss: 0.571117 [22000|23000] Accuracy: 9.744665718349928\n",
      "Validation Error:\n",
      "Accuracy: 9.92 Avg Loss: 0.6358102675676346\n",
      "Epochs 2 \n",
      "------------------------\n",
      "loss: 0.546696 [2000|23000] Accuracy: 9.833944648216072\n",
      "loss: 0.696676 [4000|23000] Accuracy: 9.880281690140846\n",
      "loss: 0.540159 [6000|23000] Accuracy: 9.92151431209603\n",
      "loss: 0.795015 [8000|23000] Accuracy: 9.975696502667457\n",
      "loss: 0.348650 [10000|23000] Accuracy: 10.024578450985995\n",
      "loss: 0.393419 [12000|23000] Accuracy: 10.073675496688741\n",
      "loss: 0.422501 [14000|23000] Accuracy: 10.11496399039744\n",
      "loss: 0.663268 [16000|23000] Accuracy: 10.155653071760455\n",
      "loss: 0.552095 [18000|23000] Accuracy: 10.197049262315579\n",
      "loss: 0.592438 [20000|23000] Accuracy: 10.241513094083414\n",
      "loss: 0.585469 [22000|23000] Accuracy: 10.270887267592375\n",
      "Validation Error:\n",
      "Accuracy: 10.485333333333333 Avg Loss: 0.6024451327323913\n",
      "Epochs 3 \n",
      "------------------------\n",
      "loss: 0.477703 [2000|23000] Accuracy: 10.339044183949504\n",
      "loss: 0.479580 [4000|23000] Accuracy: 10.387415040561281\n",
      "loss: 0.576953 [6000|23000] Accuracy: 10.422748612889459\n",
      "loss: 0.387371 [8000|23000] Accuracy: 10.462273955518603\n",
      "loss: 0.467192 [10000|23000] Accuracy: 10.496555915721231\n",
      "loss: 0.524437 [12000|23000] Accuracy: 10.534676941315945\n",
      "loss: 0.574968 [14000|23000] Accuracy: 10.568260701889702\n",
      "loss: 0.370145 [16000|23000] Accuracy: 10.600451892299002\n",
      "loss: 0.276108 [18000|23000] Accuracy: 10.63999264164827\n",
      "loss: 0.351591 [20000|23000] Accuracy: 10.663010249955043\n",
      "loss: 0.522800 [22000|23000] Accuracy: 10.690643686246922\n",
      "Validation Error:\n",
      "Accuracy: 10.864 Avg Loss: 0.5807994705140591\n",
      "Epochs 4 \n",
      "------------------------\n",
      "loss: 0.519252 [2000|23000] Accuracy: 10.743912821386004\n",
      "loss: 0.465878 [4000|23000] Accuracy: 10.776425475158387\n",
      "loss: 0.738188 [6000|23000] Accuracy: 10.800424628450106\n",
      "loss: 0.484155 [8000|23000] Accuracy: 10.827944942381562\n",
      "loss: 0.482016 [10000|23000] Accuracy: 10.853914953710968\n",
      "loss: 0.336587 [12000|23000] Accuracy: 10.879655278547245\n",
      "loss: 0.512099 [14000|23000] Accuracy: 10.906386833761136\n",
      "loss: 0.506944 [16000|23000] Accuracy: 10.929460580912863\n",
      "loss: 0.444507 [18000|23000] Accuracy: 10.954604975993016\n",
      "loss: 0.637895 [20000|23000] Accuracy: 10.976278936839098\n",
      "loss: 0.454050 [22000|23000] Accuracy: 11.003228976554823\n",
      "Validation Error:\n",
      "Accuracy: 11.1248 Avg Loss: 0.5616406056404114\n",
      "Epochs 5 \n",
      "------------------------\n",
      "loss: 0.238701 [2000|23000] Accuracy: 11.039261285909713\n",
      "loss: 0.577510 [4000|23000] Accuracy: 11.064559515803632\n",
      "loss: 0.539906 [6000|23000] Accuracy: 11.085978835978835\n",
      "loss: 0.357999 [8000|23000] Accuracy: 11.107351984385167\n",
      "loss: 0.302378 [10000|23000] Accuracy: 11.130729833546734\n",
      "loss: 0.468372 [12000|23000] Accuracy: 11.153875236294896\n",
      "loss: 0.479168 [14000|23000] Accuracy: 11.174937965260545\n",
      "loss: 0.712755 [16000|23000] Accuracy: 11.194379963347586\n",
      "loss: 0.434494 [18000|23000] Accuracy: 11.215042117930205\n",
      "loss: 0.649640 [20000|23000] Accuracy: 11.233313574392412\n",
      "loss: 0.451814 [22000|23000] Accuracy: 11.254205607476635\n",
      "Validation Error:\n",
      "Accuracy: 11.290666666666667 Avg Loss: 0.5512806673447291\n",
      "Epochs 6 \n",
      "------------------------\n",
      "loss: 0.522665 [2000|23000] Accuracy: 11.282839830799132\n",
      "loss: 0.472414 [4000|23000] Accuracy: 11.300721370604148\n",
      "loss: 0.222437 [6000|23000] Accuracy: 11.32110703567856\n",
      "loss: 0.209960 [8000|23000] Accuracy: 11.34137250602938\n",
      "loss: 0.329053 [10000|23000] Accuracy: 11.358819076457229\n",
      "loss: 0.460901 [12000|23000] Accuracy: 11.375480153649168\n",
      "loss: 0.327521 [14000|23000] Accuracy: 11.393387385490154\n",
      "loss: 0.306309 [16000|23000] Accuracy: 11.4092704219497\n",
      "loss: 0.435719 [18000|23000] Accuracy: 11.426079819431619\n",
      "loss: 0.410640 [20000|23000] Accuracy: 11.44469205834684\n",
      "loss: 0.475734 [22000|23000] Accuracy: 11.463739121736522\n",
      "Validation Error:\n",
      "Accuracy: 11.473142857142857 Avg Loss: 0.5362700286763055\n",
      "Epochs 7 \n",
      "------------------------\n",
      "loss: 0.313479 [2000|23000] Accuracy: 11.48851139041634\n",
      "loss: 0.373977 [4000|23000] Accuracy: 11.505577650596566\n",
      "loss: 0.431896 [6000|23000] Accuracy: 11.52357676825762\n",
      "loss: 0.479166 [8000|23000] Accuracy: 11.541244436026139\n",
      "loss: 0.342520 [10000|23000] Accuracy: 11.555222763010109\n",
      "loss: 0.245481 [12000|23000] Accuracy: 11.571190674437968\n",
      "loss: 0.408783 [14000|23000] Accuracy: 11.587159319553686\n",
      "loss: 0.593344 [16000|23000] Accuracy: 11.606293516592821\n",
      "loss: 0.405564 [18000|23000] Accuracy: 11.619814020028612\n",
      "loss: 0.472410 [20000|23000] Accuracy: 11.633654611371474\n",
      "loss: 0.335845 [22000|23000] Accuracy: 11.647542417351758\n",
      "Validation Error:\n",
      "Accuracy: 11.633 Avg Loss: 0.524207955673337\n",
      "Epochs 8 \n",
      "------------------------\n",
      "loss: 0.401202 [2000|23000] Accuracy: 11.668531107477842\n",
      "loss: 0.331306 [4000|23000] Accuracy: 11.686957262046654\n",
      "loss: 0.503491 [6000|23000] Accuracy: 11.700699182882655\n",
      "loss: 0.285432 [8000|23000] Accuracy: 11.715155051683894\n",
      "loss: 0.329132 [10000|23000] Accuracy: 11.729807771636004\n",
      "loss: 0.506345 [12000|23000] Accuracy: 11.742283194512494\n",
      "loss: 0.195189 [14000|23000] Accuracy: 11.756284859752647\n",
      "loss: 0.916807 [16000|23000] Accuracy: 11.769446222791293\n",
      "loss: 0.173375 [18000|23000] Accuracy: 11.78195071705887\n",
      "loss: 0.405584 [20000|23000] Accuracy: 11.795935979915267\n",
      "loss: 0.486393 [22000|23000] Accuracy: 11.80933882371222\n",
      "Validation Error:\n",
      "Accuracy: 11.773333333333333 Avg Loss: 0.5123212351666556\n",
      "Epochs 9 \n",
      "------------------------\n",
      "loss: 0.296304 [2000|23000] Accuracy: 11.827155766579875\n",
      "loss: 0.414093 [4000|23000] Accuracy: 11.841386634301752\n",
      "loss: 0.456810 [6000|23000] Accuracy: 11.856251878569282\n",
      "loss: 0.396914 [8000|23000] Accuracy: 11.86979825802129\n",
      "loss: 0.420374 [10000|23000] Accuracy: 11.880660864434283\n",
      "loss: 0.208491 [12000|23000] Accuracy: 11.893152086530732\n",
      "loss: 0.586996 [14000|23000] Accuracy: 11.905634414831981\n",
      "loss: 0.529245 [16000|23000] Accuracy: 11.918251632814183\n",
      "loss: 0.712284 [18000|23000] Accuracy: 11.933560961729976\n",
      "loss: 0.402721 [20000|23000] Accuracy: 11.94345343016287\n",
      "loss: 0.427355 [22000|23000] Accuracy: 11.955199888174448\n",
      "Validation Error:\n",
      "Accuracy: 11.8992 Avg Loss: 0.5014668404638767\n"
     ]
    }
   ],
   "source": [
    "for epoch in tqdm(range(EPOCHS)):\n",
    "    print(f'Epochs {epoch} \\n------------------------')\n",
    "    for iteration, tensor in enumerate(train_loader):\n",
    "        \n",
    "        X_batch = tensor.get('img').to(DEVICE)\n",
    "        y_batch = tensor.get('label').to(DEVICE)\n",
    "        y_batch = F.one_hot(y_batch, 2).to(torch.float32)\n",
    "        \n",
    "        model.train()\n",
    "        optimizer.zero_grad()\n",
    "        \n",
    "        outputs = model(X_batch)\n",
    "        loss = loss_function(outputs, y_batch)\n",
    "    \n",
    "        loss.backward()\n",
    "        \n",
    "        acc = accuracy(outputs, y_batch)\n",
    "        \n",
    "        acc_train.append(acc)\n",
    "        train_loss.append(loss.detach().cpu().numpy().item())\n",
    "        \n",
    "        optimizer.step()\n",
    "        \n",
    "        current = (iteration + 1) * len(X_batch)\n",
    "        if current % 1000 == 0:\n",
    "            print(f'loss: {loss:>7f} [{current}|{size:>2d}] Accuracy: {np.mean(acc_train)}')\n",
    "    \n",
    "    total_loss.append(np.mean(train_loss)) # для графика\n",
    "    for iteration, tensor in enumerate(test_loader):\n",
    "        X_val = tensor.get('img').to(DEVICE)\n",
    "        y_val = tensor.get('label').to(DEVICE)\n",
    "        y_val = F.one_hot(y_val, 2).to(torch.float32)\n",
    "        with torch.no_grad():\n",
    "            model.eval()\n",
    "            \n",
    "            outputs = model(X_val)\n",
    "            \n",
    "            loss = loss_function(outputs, y_val)\n",
    "            acc = accuracy(outputs, y_val)\n",
    "            \n",
    "            acc_val.append(acc)\n",
    "            val_loss.append(loss.detach().cpu().numpy().item())\n",
    "            \n",
    "    total_val_loss.append(np.mean(val_loss)) # для графика\n",
    "    print(f'Validation Error:\\nAccuracy: {np.mean(acc_val)} Avg Loss: {np.mean(val_loss)}')"
   ]
  },
  {
   "cell_type": "code",
   "execution_count": null,
   "id": "19259ead",
   "metadata": {
    "papermill": {
     "duration": 0.01499,
     "end_time": "2024-03-17T16:07:07.824402",
     "exception": false,
     "start_time": "2024-03-17T16:07:07.809412",
     "status": "completed"
    },
    "tags": []
   },
   "outputs": [],
   "source": []
  },
  {
   "cell_type": "code",
   "execution_count": null,
   "id": "01bde836",
   "metadata": {
    "papermill": {
     "duration": 0.056193,
     "end_time": "2024-03-17T16:07:07.895278",
     "exception": false,
     "start_time": "2024-03-17T16:07:07.839085",
     "status": "completed"
    },
    "tags": []
   },
   "outputs": [],
   "source": []
  },
  {
   "cell_type": "code",
   "execution_count": null,
   "id": "17a15485",
   "metadata": {
    "papermill": {
     "duration": 0.014568,
     "end_time": "2024-03-17T16:07:07.924661",
     "exception": false,
     "start_time": "2024-03-17T16:07:07.910093",
     "status": "completed"
    },
    "tags": []
   },
   "outputs": [],
   "source": []
  },
  {
   "cell_type": "code",
   "execution_count": null,
   "id": "5ca6edf0",
   "metadata": {
    "papermill": {
     "duration": 0.014897,
     "end_time": "2024-03-17T16:07:07.954281",
     "exception": false,
     "start_time": "2024-03-17T16:07:07.939384",
     "status": "completed"
    },
    "tags": []
   },
   "outputs": [],
   "source": []
  },
  {
   "cell_type": "code",
   "execution_count": null,
   "id": "cd1a0797",
   "metadata": {
    "papermill": {
     "duration": 0.014954,
     "end_time": "2024-03-17T16:07:07.984069",
     "exception": false,
     "start_time": "2024-03-17T16:07:07.969115",
     "status": "completed"
    },
    "tags": []
   },
   "outputs": [],
   "source": []
  }
 ],
 "metadata": {
  "kaggle": {
   "accelerator": "gpu",
   "dataSources": [
    {
     "datasetId": 116680,
     "sourceId": 279337,
     "sourceType": "datasetVersion"
    }
   ],
   "dockerImageVersionId": 30664,
   "isGpuEnabled": true,
   "isInternetEnabled": true,
   "language": "python",
   "sourceType": "notebook"
  },
  "kernelspec": {
   "display_name": "Python 3",
   "language": "python",
   "name": "python3"
  },
  "language_info": {
   "codemirror_mode": {
    "name": "ipython",
    "version": 3
   },
   "file_extension": ".py",
   "mimetype": "text/x-python",
   "name": "python",
   "nbconvert_exporter": "python",
   "pygments_lexer": "ipython3",
   "version": "3.10.13"
  },
  "papermill": {
   "default_parameters": {},
   "duration": 1522.435636,
   "end_time": "2024-03-17T16:07:09.525997",
   "environment_variables": {},
   "exception": null,
   "input_path": "__notebook__.ipynb",
   "output_path": "__notebook__.ipynb",
   "parameters": {},
   "start_time": "2024-03-17T15:41:47.090361",
   "version": "2.5.0"
  },
  "widgets": {
   "application/vnd.jupyter.widget-state+json": {
    "state": {
     "05eb73e9768b43149cc1077aab237431": {
      "model_module": "@jupyter-widgets/base",
      "model_module_version": "1.2.0",
      "model_name": "LayoutModel",
      "state": {
       "_model_module": "@jupyter-widgets/base",
       "_model_module_version": "1.2.0",
       "_model_name": "LayoutModel",
       "_view_count": null,
       "_view_module": "@jupyter-widgets/base",
       "_view_module_version": "1.2.0",
       "_view_name": "LayoutView",
       "align_content": null,
       "align_items": null,
       "align_self": null,
       "border": null,
       "bottom": null,
       "display": null,
       "flex": null,
       "flex_flow": null,
       "grid_area": null,
       "grid_auto_columns": null,
       "grid_auto_flow": null,
       "grid_auto_rows": null,
       "grid_column": null,
       "grid_gap": null,
       "grid_row": null,
       "grid_template_areas": null,
       "grid_template_columns": null,
       "grid_template_rows": null,
       "height": null,
       "justify_content": null,
       "justify_items": null,
       "left": null,
       "margin": null,
       "max_height": null,
       "max_width": null,
       "min_height": null,
       "min_width": null,
       "object_fit": null,
       "object_position": null,
       "order": null,
       "overflow": null,
       "overflow_x": null,
       "overflow_y": null,
       "padding": null,
       "right": null,
       "top": null,
       "visibility": null,
       "width": null
      }
     },
     "1b64457b515d460a82cc0a439ae7614f": {
      "model_module": "@jupyter-widgets/base",
      "model_module_version": "1.2.0",
      "model_name": "LayoutModel",
      "state": {
       "_model_module": "@jupyter-widgets/base",
       "_model_module_version": "1.2.0",
       "_model_name": "LayoutModel",
       "_view_count": null,
       "_view_module": "@jupyter-widgets/base",
       "_view_module_version": "1.2.0",
       "_view_name": "LayoutView",
       "align_content": null,
       "align_items": null,
       "align_self": null,
       "border": null,
       "bottom": null,
       "display": null,
       "flex": null,
       "flex_flow": null,
       "grid_area": null,
       "grid_auto_columns": null,
       "grid_auto_flow": null,
       "grid_auto_rows": null,
       "grid_column": null,
       "grid_gap": null,
       "grid_row": null,
       "grid_template_areas": null,
       "grid_template_columns": null,
       "grid_template_rows": null,
       "height": null,
       "justify_content": null,
       "justify_items": null,
       "left": null,
       "margin": null,
       "max_height": null,
       "max_width": null,
       "min_height": null,
       "min_width": null,
       "object_fit": null,
       "object_position": null,
       "order": null,
       "overflow": null,
       "overflow_x": null,
       "overflow_y": null,
       "padding": null,
       "right": null,
       "top": null,
       "visibility": null,
       "width": null
      }
     },
     "2f82761c661b459c82743b6b4a803aac": {
      "model_module": "@jupyter-widgets/controls",
      "model_module_version": "1.5.0",
      "model_name": "HTMLModel",
      "state": {
       "_dom_classes": [],
       "_model_module": "@jupyter-widgets/controls",
       "_model_module_version": "1.5.0",
       "_model_name": "HTMLModel",
       "_view_count": null,
       "_view_module": "@jupyter-widgets/controls",
       "_view_module_version": "1.5.0",
       "_view_name": "HTMLView",
       "description": "",
       "description_tooltip": null,
       "layout": "IPY_MODEL_05eb73e9768b43149cc1077aab237431",
       "placeholder": "​",
       "style": "IPY_MODEL_7eff8b9f17944e3892b0b516645bd943",
       "value": " 10/10 [25:09&lt;00:00, 140.33s/it]"
      }
     },
     "33de5ec93ef040b0b3aace9494562c85": {
      "model_module": "@jupyter-widgets/controls",
      "model_module_version": "1.5.0",
      "model_name": "FloatProgressModel",
      "state": {
       "_dom_classes": [],
       "_model_module": "@jupyter-widgets/controls",
       "_model_module_version": "1.5.0",
       "_model_name": "FloatProgressModel",
       "_view_count": null,
       "_view_module": "@jupyter-widgets/controls",
       "_view_module_version": "1.5.0",
       "_view_name": "ProgressView",
       "bar_style": "success",
       "description": "",
       "description_tooltip": null,
       "layout": "IPY_MODEL_1b64457b515d460a82cc0a439ae7614f",
       "max": 10.0,
       "min": 0.0,
       "orientation": "horizontal",
       "style": "IPY_MODEL_ff481bb559e5429da70ddc55410eb176",
       "value": 10.0
      }
     },
     "7eff8b9f17944e3892b0b516645bd943": {
      "model_module": "@jupyter-widgets/controls",
      "model_module_version": "1.5.0",
      "model_name": "DescriptionStyleModel",
      "state": {
       "_model_module": "@jupyter-widgets/controls",
       "_model_module_version": "1.5.0",
       "_model_name": "DescriptionStyleModel",
       "_view_count": null,
       "_view_module": "@jupyter-widgets/base",
       "_view_module_version": "1.2.0",
       "_view_name": "StyleView",
       "description_width": ""
      }
     },
     "9b393341c6d0431aaad684b2b0960f2e": {
      "model_module": "@jupyter-widgets/controls",
      "model_module_version": "1.5.0",
      "model_name": "HTMLModel",
      "state": {
       "_dom_classes": [],
       "_model_module": "@jupyter-widgets/controls",
       "_model_module_version": "1.5.0",
       "_model_name": "HTMLModel",
       "_view_count": null,
       "_view_module": "@jupyter-widgets/controls",
       "_view_module_version": "1.5.0",
       "_view_name": "HTMLView",
       "description": "",
       "description_tooltip": null,
       "layout": "IPY_MODEL_df6c40bffca64629ad4c569507d78261",
       "placeholder": "​",
       "style": "IPY_MODEL_f3e112b6ce5f46d5bf12bde080d45170",
       "value": "100%"
      }
     },
     "df6c40bffca64629ad4c569507d78261": {
      "model_module": "@jupyter-widgets/base",
      "model_module_version": "1.2.0",
      "model_name": "LayoutModel",
      "state": {
       "_model_module": "@jupyter-widgets/base",
       "_model_module_version": "1.2.0",
       "_model_name": "LayoutModel",
       "_view_count": null,
       "_view_module": "@jupyter-widgets/base",
       "_view_module_version": "1.2.0",
       "_view_name": "LayoutView",
       "align_content": null,
       "align_items": null,
       "align_self": null,
       "border": null,
       "bottom": null,
       "display": null,
       "flex": null,
       "flex_flow": null,
       "grid_area": null,
       "grid_auto_columns": null,
       "grid_auto_flow": null,
       "grid_auto_rows": null,
       "grid_column": null,
       "grid_gap": null,
       "grid_row": null,
       "grid_template_areas": null,
       "grid_template_columns": null,
       "grid_template_rows": null,
       "height": null,
       "justify_content": null,
       "justify_items": null,
       "left": null,
       "margin": null,
       "max_height": null,
       "max_width": null,
       "min_height": null,
       "min_width": null,
       "object_fit": null,
       "object_position": null,
       "order": null,
       "overflow": null,
       "overflow_x": null,
       "overflow_y": null,
       "padding": null,
       "right": null,
       "top": null,
       "visibility": null,
       "width": null
      }
     },
     "f044b129f57d4650bace10ea1d31f97d": {
      "model_module": "@jupyter-widgets/controls",
      "model_module_version": "1.5.0",
      "model_name": "HBoxModel",
      "state": {
       "_dom_classes": [],
       "_model_module": "@jupyter-widgets/controls",
       "_model_module_version": "1.5.0",
       "_model_name": "HBoxModel",
       "_view_count": null,
       "_view_module": "@jupyter-widgets/controls",
       "_view_module_version": "1.5.0",
       "_view_name": "HBoxView",
       "box_style": "",
       "children": [
        "IPY_MODEL_9b393341c6d0431aaad684b2b0960f2e",
        "IPY_MODEL_33de5ec93ef040b0b3aace9494562c85",
        "IPY_MODEL_2f82761c661b459c82743b6b4a803aac"
       ],
       "layout": "IPY_MODEL_fde17e3ff12b4b619d18b489ad98e97d"
      }
     },
     "f3e112b6ce5f46d5bf12bde080d45170": {
      "model_module": "@jupyter-widgets/controls",
      "model_module_version": "1.5.0",
      "model_name": "DescriptionStyleModel",
      "state": {
       "_model_module": "@jupyter-widgets/controls",
       "_model_module_version": "1.5.0",
       "_model_name": "DescriptionStyleModel",
       "_view_count": null,
       "_view_module": "@jupyter-widgets/base",
       "_view_module_version": "1.2.0",
       "_view_name": "StyleView",
       "description_width": ""
      }
     },
     "fde17e3ff12b4b619d18b489ad98e97d": {
      "model_module": "@jupyter-widgets/base",
      "model_module_version": "1.2.0",
      "model_name": "LayoutModel",
      "state": {
       "_model_module": "@jupyter-widgets/base",
       "_model_module_version": "1.2.0",
       "_model_name": "LayoutModel",
       "_view_count": null,
       "_view_module": "@jupyter-widgets/base",
       "_view_module_version": "1.2.0",
       "_view_name": "LayoutView",
       "align_content": null,
       "align_items": null,
       "align_self": null,
       "border": null,
       "bottom": null,
       "display": null,
       "flex": null,
       "flex_flow": null,
       "grid_area": null,
       "grid_auto_columns": null,
       "grid_auto_flow": null,
       "grid_auto_rows": null,
       "grid_column": null,
       "grid_gap": null,
       "grid_row": null,
       "grid_template_areas": null,
       "grid_template_columns": null,
       "grid_template_rows": null,
       "height": null,
       "justify_content": null,
       "justify_items": null,
       "left": null,
       "margin": null,
       "max_height": null,
       "max_width": null,
       "min_height": null,
       "min_width": null,
       "object_fit": null,
       "object_position": null,
       "order": null,
       "overflow": null,
       "overflow_x": null,
       "overflow_y": null,
       "padding": null,
       "right": null,
       "top": null,
       "visibility": null,
       "width": null
      }
     },
     "ff481bb559e5429da70ddc55410eb176": {
      "model_module": "@jupyter-widgets/controls",
      "model_module_version": "1.5.0",
      "model_name": "ProgressStyleModel",
      "state": {
       "_model_module": "@jupyter-widgets/controls",
       "_model_module_version": "1.5.0",
       "_model_name": "ProgressStyleModel",
       "_view_count": null,
       "_view_module": "@jupyter-widgets/base",
       "_view_module_version": "1.2.0",
       "_view_name": "StyleView",
       "bar_color": null,
       "description_width": ""
      }
     }
    },
    "version_major": 2,
    "version_minor": 0
   }
  }
 },
 "nbformat": 4,
 "nbformat_minor": 5
}
