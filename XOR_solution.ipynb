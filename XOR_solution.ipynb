{
  "nbformat": 4,
  "nbformat_minor": 0,
  "metadata": {
    "colab": {
      "provenance": [],
      "authorship_tag": "ABX9TyNUeXN9REWNVFisvvMYZlJj"
    },
    "kernelspec": {
      "name": "python3",
      "display_name": "Python 3"
    },
    "language_info": {
      "name": "python"
    }
  },
  "cells": [
    {
      "cell_type": "code",
      "execution_count": null,
      "metadata": {
        "id": "-ZKS6nxeikNj"
      },
      "outputs": [],
      "source": [
        "import numpy as np"
      ]
    },
    {
      "cell_type": "code",
      "source": [
        "X = np.array([[1, 1],\n",
        "     [1, 0],\n",
        "     [0, 1],\n",
        "     [0, 0]])\n",
        "\n",
        "y = np.array([0, 1, 1, 0])"
      ],
      "metadata": {
        "id": "2_K0k_lJiyLw"
      },
      "execution_count": null,
      "outputs": []
    },
    {
      "cell_type": "code",
      "source": [
        "W1 = np.array([[0.5, 0.3], [0.2, 0.1]])\n",
        "W2 = np.array([0.4, 0.6])"
      ],
      "metadata": {
        "id": "-_A4ubfZjpIU"
      },
      "execution_count": null,
      "outputs": []
    },
    {
      "cell_type": "code",
      "source": [
        "epochs = 1000000"
      ],
      "metadata": {
        "id": "SfprV_4XjAOH"
      },
      "execution_count": null,
      "outputs": []
    },
    {
      "cell_type": "code",
      "source": [
        "def sigmoid(x):\n",
        "  return 1/(1+np.exp(-x))"
      ],
      "metadata": {
        "id": "5-zTIfUykyma"
      },
      "execution_count": null,
      "outputs": []
    },
    {
      "cell_type": "code",
      "source": [
        "def sigmoid_derivate(x):\n",
        "  return sigmoid(x) * (1 - sigmoid(x))"
      ],
      "metadata": {
        "id": "4tGyu8Xvk6Ac"
      },
      "execution_count": null,
      "outputs": []
    },
    {
      "cell_type": "code",
      "source": [
        "def forward_pass(x):\n",
        "  # first layer\n",
        "  z1 = x.dot(W1) # + bias1 # shape = (2,) | sum for neurons in first layer\n",
        "  a1 = sigmoid(z1) # shape = (2,) | activation for neurons in first layer\n",
        "  # second layer\n",
        "  z2 = a1.dot(W2) # + bias2\n",
        "  a2 = sigmoid(z2)\n",
        "\n",
        "  return z1, a1, z2, a2\n"
      ],
      "metadata": {
        "id": "o6ug3JJuXejM"
      },
      "execution_count": null,
      "outputs": []
    },
    {
      "cell_type": "code",
      "source": [
        "learning_rate = 0.1\n",
        "\n",
        "for e in range(epochs):\n",
        "  indx = np.random.choice(X.shape[0], 1, replace=False)[0] # int number'\n",
        "  x = X[indx] # save\n",
        "  #forward pass\n",
        "  z1, a1, z2, a2 = forward_pass(x)\n",
        "\n",
        "  # backpropagination\n",
        "  error = a2 - y[indx]\n",
        "\n",
        "  delta = error * sigmoid_derivate(z2)\n",
        "\n",
        "  # correct weights on second layer\n",
        "  W2 = W2 - learning_rate * delta * a1\n",
        "\n",
        "  # error for first layer\n",
        "  delta2 = W2 * delta * sigmoid_derivate(z1)\n",
        "  # correct weights on first layer\n",
        "  W1 = W1 - learning_rate * x * delta2"
      ],
      "metadata": {
        "id": "pUur4JWLjdwu"
      },
      "execution_count": null,
      "outputs": []
    },
    {
      "cell_type": "code",
      "source": [
        "for i in range(len(X)):\n",
        "  print(f'Результат равен {forward_pass(X[i])[-1]} при истинном значении {y[i]}')"
      ],
      "metadata": {
        "colab": {
          "base_uri": "https://localhost:8080/"
        },
        "id": "R4bdoFjVYhYr",
        "outputId": "42583a2e-9035-45dc-fefa-c42958d26783"
      },
      "execution_count": null,
      "outputs": [
        {
          "output_type": "stream",
          "name": "stdout",
          "text": [
            "Результат равен 0.05472472884701969 при истинном значении 0\n",
            "Результат равен 0.9190524844809055 при истинном значении 1\n",
            "Результат равен 0.9759224736610443 при истинном значении 1\n",
            "Результат равен 0.09257778633298687 при истинном значении 0\n"
          ]
        }
      ]
    },
    {
      "cell_type": "code",
      "source": [
        "W1"
      ],
      "metadata": {
        "colab": {
          "base_uri": "https://localhost:8080/"
        },
        "id": "sfAvzChcQDoP",
        "outputId": "932061bf-e4d7-46aa-bea3-bf23a09a3624"
      },
      "execution_count": null,
      "outputs": [
        {
          "output_type": "execute_result",
          "data": {
            "text/plain": [
              "array([[9.20997725, 1.73122249],\n",
              "       [8.90997725, 1.53122249]])"
            ]
          },
          "metadata": {},
          "execution_count": 144
        }
      ]
    },
    {
      "cell_type": "code",
      "source": [
        "W2"
      ],
      "metadata": {
        "id": "pOEF07WhWpJ3",
        "outputId": "4aac681a-330b-412c-91cd-1194d4fae1fc",
        "colab": {
          "base_uri": "https://localhost:8080/"
        }
      },
      "execution_count": null,
      "outputs": [
        {
          "output_type": "execute_result",
          "data": {
            "text/plain": [
              "array([ 41.96015852, -46.52527577])"
            ]
          },
          "metadata": {},
          "execution_count": 145
        }
      ]
    },
    {
      "cell_type": "code",
      "source": [],
      "metadata": {
        "id": "NTEteG4pWqvR"
      },
      "execution_count": null,
      "outputs": []
    }
  ]
}